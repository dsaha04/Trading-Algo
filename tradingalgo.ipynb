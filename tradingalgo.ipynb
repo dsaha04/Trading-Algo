{
 "cells": [
  {
   "cell_type": "code",
   "execution_count": 22,
   "id": "6366437e",
   "metadata": {},
   "outputs": [],
   "source": [
    "from pandas_datareader import data as pdr\n",
    "import numpy as np\n",
    "from sklearn.linear_model import Lasso\n",
    "from sklearn.preprocessing import StandardScaler\n",
    "from sklearn.model_selection import RandomizedSearchCV as rcv\n",
    "from sklearn.pipeline import Pipeline\n",
    "from sklearn.impute import SimpleImputer\n",
    "import matplotlib.pyplot as plt\n",
    "from IPython import get_ipython\n",
    "import datetime\n",
    "\n",
    "import yfinance as yf\n",
    "import csv"
   ]
  },
  {
   "cell_type": "code",
   "execution_count": 33,
   "id": "49571335",
   "metadata": {},
   "outputs": [],
   "source": [
    "# auto update current date later\n",
    "df = pdr.DataReader('ETH-USD',data_source='yahoo' ,start='2020-01-01',end=datetime.date.today())\n",
    "df = df[['Open','High','Low','Close','Volume']]\n",
    "df = df[:-1]"
   ]
  },
  {
   "cell_type": "code",
   "execution_count": null,
   "id": "c2a225be",
   "metadata": {},
   "outputs": [],
   "source": [
    "steps = [('scaler',StandardScaler()),\n",
    "         ('lasso',Lasso())]        \n",
    "\n",
    "pipeline = Pipeline(steps)\n",
    "\n",
    "\n",
    "parameters = {'lasso__alpha':np.arange(0.0001,10,.0001),\n",
    "              'lasso__max_iter':np.random.uniform(100,100000,4)}\n",
    "\n",
    "\n",
    "reg = rcv(pipeline, parameters,cv=5)"
   ]
  }
 ],
 "metadata": {
  "kernelspec": {
   "display_name": "Python 3 (ipykernel)",
   "language": "python",
   "name": "python3"
  },
  "language_info": {
   "codemirror_mode": {
    "name": "ipython",
    "version": 3
   },
   "file_extension": ".py",
   "mimetype": "text/x-python",
   "name": "python",
   "nbconvert_exporter": "python",
   "pygments_lexer": "ipython3",
   "version": "3.9.6"
  }
 },
 "nbformat": 4,
 "nbformat_minor": 5
}
